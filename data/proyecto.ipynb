{
 "cells": [
  {
   "cell_type": "code",
   "execution_count": 2,
   "metadata": {},
   "outputs": [
    {
     "name": "stdout",
     "output_type": "stream",
     "text": [
      "TCCGACACCTCACCCGCCGCAACATGGCTGATGACCTTGCTGCCCGCATCAATACCCGATGCAGTCACCGCAGGACCATTGGTAATCGTCAAACCCGTCGTACCCAATGCAACATCGCTACCCACCTTCACGCCATCGTTATTCACGACCGTGGTGCCCGAGGTCATCCCATCCACTTTGAAATCCTTGGACAGGTTAAACACCACATCATTGCTATCATCGGATTTGCTGATCGTCAGATTCCCATCCGT\n"
     ]
    }
   ],
   "source": [
    "def load_fasta(filename):\n",
    "    with open(filename, 'r') as file:\n",
    "        sequences = {}\n",
    "        sequence = \"\"\n",
    "        header = \"\"\n",
    "        for line in file:\n",
    "            if line.startswith('>'):\n",
    "                if header:\n",
    "                    sequences[header] = sequence\n",
    "                header = line.strip()\n",
    "                sequence = \"\"\n",
    "            else:\n",
    "                sequence += line.strip()\n",
    "        if header:\n",
    "            sequences[header] = sequence\n",
    "        lsequences = list(sequences.values())\n",
    "        return lsequences\n",
    "\n",
    "xylefa8416 = load_fasta(\"xylefa8416.fasta\")\n",
    "xylefa8416_127 = xylefa8416[127]\n",
    "repetido = xylefa8416_127\n",
    "xylefa8416_126 = xylefa8416[126]\n",
    "\n",
    "print(xylefa8416_127)"
   ]
  },
  {
   "cell_type": "markdown",
   "metadata": {},
   "source": [
    "## Ejercicio 2 \n",
    "La distancia de Hamming H dada en ecuación (1) es una medida del número de posiciones en las que los caracteres correspondientes difieren entre dos cadenas de igual longitud. La formula es la siguiente. H(a, b) =|a|∑i=1∆(a[i], b[i])\n",
    "Donde ∆ es una función que retorna 0 si los caracteres son idénticos y 1 en caso contrario.\n",
    "\n",
    "### 1.Escriba un método para calcular la distancia de Hamming entre dos secuencias."
   ]
  },
  {
   "cell_type": "code",
   "execution_count": 8,
   "metadata": {},
   "outputs": [
    {
     "data": {
      "text/plain": [
       "1"
      ]
     },
     "execution_count": 8,
     "metadata": {},
     "output_type": "execute_result"
    }
   ],
   "source": [
    "def hamming_distance(a, b):\n",
    "    if len(a) != len(b):\n",
    "        return 1\n",
    "    return sum(1 for x, y in zip(a, b) if x != y)\n",
    "\n",
    "hamming_distance(xylefa8416_127, xylefa8416_126) #👌\n",
    "hamming_distance(xylefa8416_127, repetido) #👌\n"
   ]
  },
  {
   "cell_type": "markdown",
   "metadata": {},
   "source": [
    "### 2.Dé la complejidad en tiempo del algoritmo.\n",
    "La complejidad en tiempo del algoritmo es O(n), donde n es la longitud de las cadenas a comparar.\n",
    "\n",
    "### 3. ¿Cuál es el principal inconveniente del uso de esta distancia en el contexto de secuencias ADN?\n",
    "El principal inconveniente del uso de esta distancia en el contexto de secuencias de ADN es que no toma en cuenta la relación entre los caracteres. Por ejemplo, si se tienen dos secuencias de ADN que difieren en una sola posición, pero la diferencia es entre dos bases nitrogenadas complementarias, la distancia de Hamming será 1, a pesar de que la diferencia sea mínima."
   ]
  },
  {
   "cell_type": "markdown",
   "metadata": {},
   "source": [
    "## Ejercicio 3\n",
    "### 1. Escriba un algoritmo para descomponer en k-mers las secuencias de un fasta y guardarlas.\n"
   ]
  },
  {
   "cell_type": "code",
   "execution_count": 8,
   "metadata": {},
   "outputs": [],
   "source": [
    "def descompone_fasta(fasta, k):\n",
    "    with open(fasta) as f:\n",
    "        listak = []\n",
    "        seq = \"\"\n",
    "        for line in f:\n",
    "            if line.startswith(\">\"):\n",
    "                if seq:\n",
    "                    for i in range(len(seq) - k + 1):\n",
    "                        listak.append(seq[i:i + k])\n",
    "                seq = \"\"\n",
    "            else:\n",
    "                seq += line.strip()\n",
    "        if seq:\n",
    "            for i in range(len(seq) - k + 1):\n",
    "                listak.append(seq[i:i + k])\n",
    "        return listak\n",
    "\n",
    "listak = descompone_fasta(\"xylefa8416.fasta\", 3) #👌"
   ]
  },
  {
   "cell_type": "markdown",
   "metadata": {},
   "source": [
    "### 2. ¿Cuántos k-mers se generan por una secuencia de longitud|S|?\n",
    "|S| - k + 1 porque se generan todas las subcadenas de longitud k\n",
    "\n",
    "\n",
    "### 3. ¿Cual es la complejidad en tiempo del algoritmo de descomposición en k-mers de una secuencia S dada ?\n",
    "O(|S|) porque se recorre la secuencia una vez"
   ]
  },
  {
   "cell_type": "markdown",
   "metadata": {},
   "source": [
    "## EJERCICIO 4\n",
    " La similitud entre dos conjuntosAyBse calcula mediante el índice de JaccardJ. La fórmula se da en laecuación (2). En el contexto de las secuencias de ADN, para determinar la similitud genética utilizamos losk-mers de las especies.\n",
    "\n",
    " ### 1. Escriba un método para calcular el índice de Jaccard de dos listas A y B.\n"
   ]
  },
  {
   "cell_type": "code",
   "execution_count": null,
   "metadata": {},
   "outputs": [],
   "source": [
    "def jaccard_index(a, b):\n",
    "    s1 = set(a)\n",
    "    s2 = set(b)\n",
    "    return len(s1.intersection(s2)) / len(s1.union(s2))\n",
    "\n",
    "jaccard_index(xylefa8416_127, [xylefa8416_126]) #👌"
   ]
  },
  {
   "cell_type": "markdown",
   "metadata": {},
   "source": [
    "### 2. Escriba el método que, dados dos conjuntos de k-mers, calcula el índice de Jaccard asociado."
   ]
  },
  {
   "cell_type": "code",
   "execution_count": 9,
   "metadata": {},
   "outputs": [
    {
     "data": {
      "text/plain": [
       "0.3333333333333333"
      ]
     },
     "execution_count": 9,
     "metadata": {},
     "output_type": "execute_result"
    }
   ],
   "source": [
    "def jaccard_index(a, b):\n",
    "    s1 = set(a)\n",
    "    s2 = set(b)\n",
    "    return len(s1.intersection(s2)) / len(s1.union(s2))\n",
    "\n",
    "jaccard_index(listak[0], listak[1]) #👌\n",
    "\n"
   ]
  },
  {
   "cell_type": "markdown",
   "metadata": {},
   "source": [
    "### 3. Escriba un método que, dado un conjunto de fasta, retorna la similitud entre las secuencias como una matriz."
   ]
  },
  {
   "cell_type": "code",
   "execution_count": null,
   "metadata": {},
   "outputs": [],
   "source": [
    "import time\n",
    "from typing import List\n",
    "\n",
    "def descompone_sequence(sequence, k):\n",
    "    listak = []\n",
    "    for i in range(len(sequence) - k + 1):\n",
    "        listak.append(sequence[i:i + k])\n",
    "    return listak\n",
    "\n",
    "def calculate_similarity(sequences: List[str], k: int) -> List[List[float]]:\n",
    "    similarity_matrix = []\n",
    "    for i in range(len(sequences)):\n",
    "        row = []\n",
    "        for j in range(len(sequences)):\n",
    "            if i == j:\n",
    "                row.append(1.0)\n",
    "            else:\n",
    "                seq1_kmers = descompone_sequence(sequences[i], k)\n",
    "                seq2_kmers = descompone_sequence(sequences[j], k)\n",
    "                similarity = jaccard_index(seq1_kmers, seq2_kmers)\n",
    "                row.append(similarity)\n",
    "        similarity_matrix.append(row)\n",
    "    return similarity_matrix\n",
    "sequences = load_fasta(\"xylefa8416.fasta\")\n",
    "start_time = time.time()\n",
    "similarity_matrix_k7 = calculate_similarity(sequences, 7)\n",
    "end_time = time.time()\n",
    "print(f\"Time for k=7: {end_time - start_time} seconds\")\n",
    "\n",
    "start_time = time.time()\n",
    "similarity_matrix_k11 = calculate_similarity(sequences, 11)\n",
    "end_time = time.time()\n",
    "print(f\"Time for k=11: {end_time - start_time} seconds\")"
   ]
  }
 ],
 "metadata": {
  "kernelspec": {
   "display_name": "Python 3",
   "language": "python",
   "name": "python3"
  },
  "language_info": {
   "codemirror_mode": {
    "name": "ipython",
    "version": 3
   },
   "file_extension": ".py",
   "mimetype": "text/x-python",
   "name": "python",
   "nbconvert_exporter": "python",
   "pygments_lexer": "ipython3",
   "version": "3.12.0"
  }
 },
 "nbformat": 4,
 "nbformat_minor": 2
}
